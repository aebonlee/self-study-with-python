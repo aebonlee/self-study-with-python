{
 "cells": [
  {
   "cell_type": "markdown",
   "metadata": {},
   "source": [
    "# Image to PDF Converter"
   ]
  },
  {
   "cell_type": "markdown",
   "metadata": {},
   "source": [
    "[개요]\n",
    "\n",
    "여러 장의 이미지를 하나의 PDF 파일로 생성하는 코드입니다.\n",
    "\n",
    "- 경로 선택 : 탐색기 창을 통해 이미지 폴더 선택\n",
    "- PDF 품질 입력 : default 100, 1 ~ 100 입력\n",
    "- PDF 페이지 정렬 : 이미지 파일명 오름차순\n",
    "- PDF 저장 위치 : 선택한 폴더의 상위 디렉토리\n",
    "- PDF 파일 명 : 선택한 폴더명 + 년월일 시분초.pdf"
   ]
  },
  {
   "cell_type": "markdown",
   "metadata": {},
   "source": [
    "### 1. 라이브러리 설치"
   ]
  },
  {
   "cell_type": "markdown",
   "metadata": {},
   "source": [
    "[설명]\n",
    "\n",
    "- Pillow: 이미지 처리 라이브러리.\n",
    "- tqdm: 프로그래스바 라이브러리.\n",
    "- PyPDF2: 순수 파이썬 PDF 라이브러리."
   ]
  },
  {
   "cell_type": "code",
   "execution_count": null,
   "metadata": {},
   "outputs": [],
   "source": [
    "!pip install pillow tqdm PyPDF2"
   ]
  },
  {
   "cell_type": "markdown",
   "metadata": {},
   "source": [
    "### 2. 실행"
   ]
  },
  {
   "cell_type": "code",
   "execution_count": 1,
   "metadata": {},
   "outputs": [
    {
     "name": "stderr",
     "output_type": "stream",
     "text": [
      "Processing images: 100%|██████████| 16/16 [00:02<00:00,  5.72it/s]\n",
      "Saving PDF: 100%|██████████| 16/16 [00:00<00:00, 151.01it/s]"
     ]
    },
    {
     "name": "stdout",
     "output_type": "stream",
     "text": [
      "PDF 파일이 C:/JKLabs/kosa-ai-160h/self-study-with-python/image-to-pdf-converter\\김기현의 딥러닝 부트갬프 with 파이썬_20240810_130724.pdf에 저장되었습니다.\n",
      "개별 PDF 파일이 삭제되었습니다.\n"
     ]
    },
    {
     "name": "stderr",
     "output_type": "stream",
     "text": [
      "\n"
     ]
    }
   ],
   "source": [
    "import os\n",
    "from PIL import Image\n",
    "from tqdm import tqdm\n",
    "from datetime import datetime\n",
    "from PyPDF2 import PdfMerger\n",
    "from tkinter import Tk, simpledialog\n",
    "from tkinter.filedialog import askdirectory\n",
    "\n",
    "def images_to_pdf(folder_path, quality):\n",
    "    # 폴더 내의 이미지 파일 리스트 가져오기\n",
    "    image_files = [os.path.join(folder_path, file) for file in os.listdir(folder_path) if file.endswith(('png', 'jpg', 'jpeg'))]\n",
    "    \n",
    "    # 이미지 파일 리스트를 오름차순으로 정렬\n",
    "    image_files.sort()\n",
    "    \n",
    "    # 현재 시간 가져오기\n",
    "    current_time = datetime.now().strftime(\"%Y%m%d_%H%M%S\")\n",
    "    \n",
    "    # 폴더 이름 가져오기\n",
    "    folder_name = os.path.basename(os.path.normpath(folder_path))\n",
    "    \n",
    "    # 상위 폴더 경로 가져오기\n",
    "    parent_folder = os.path.dirname(folder_path)\n",
    "    \n",
    "    # PDF 파일 이름 생성\n",
    "    output_pdf = os.path.join(parent_folder, f\"{folder_name}_{current_time}.pdf\")\n",
    "    \n",
    "    # PDF 병합 객체 생성\n",
    "    merger = PdfMerger()\n",
    "    \n",
    "    # 이미지 객체 리스트 생성 및 PDF로 변환\n",
    "    pdf_files = []\n",
    "    for image_file in tqdm(image_files, desc=\"Processing images\"):\n",
    "        image = Image.open(image_file)\n",
    "        pdf_path = image_file.replace(image_file.split('.')[-1], 'pdf')\n",
    "        image.save(pdf_path, \"PDF\", quality=quality)\n",
    "        merger.append(pdf_path)\n",
    "        pdf_files.append(pdf_path)\n",
    "    \n",
    "    # 병합된 PDF 저장\n",
    "    with tqdm(total=len(image_files), desc=\"Saving PDF\") as pbar:\n",
    "        merger.write(output_pdf)\n",
    "        pbar.update(len(image_files))\n",
    "    \n",
    "    merger.close()\n",
    "    print(f'PDF 파일이 {output_pdf}에 저장되었습니다.')\n",
    "    \n",
    "    # 개별 PDF 파일 삭제\n",
    "    for pdf_file in pdf_files:\n",
    "        os.remove(pdf_file)\n",
    "    print('개별 PDF 파일이 삭제되었습니다.')\n",
    "\n",
    "# 폴더 경로 선택 및 이미지 품질 입력\n",
    "def select_folder_and_quality():\n",
    "    root = Tk()\n",
    "    root.withdraw()  # Tkinter 창 숨기기\n",
    "    folder_path = askdirectory(title=\"폴더를 선택하세요\")\n",
    "    if folder_path:\n",
    "        quality = simpledialog.askinteger(\"이미지 품질 입력\", \"이미지 품질을 입력하세요 (1-100):\", initialvalue=100, minvalue=1, maxvalue=100)\n",
    "        return folder_path, quality\n",
    "    return None, None\n",
    "\n",
    "folder_path, quality = select_folder_and_quality()  # 파일 탐색기를 통해 폴더 경로 선택 및 이미지 품질 입력\n",
    "if folder_path and quality:\n",
    "    images_to_pdf(folder_path, quality)\n",
    "else:\n",
    "    print(\"폴더를 선택하지 않았거나 이미지 품질을 입력하지 않았습니다.\")\n"
   ]
  }
 ],
 "metadata": {
  "kernelspec": {
   "display_name": "self-study-env",
   "language": "python",
   "name": "python3"
  },
  "language_info": {
   "codemirror_mode": {
    "name": "ipython",
    "version": 3
   },
   "file_extension": ".py",
   "mimetype": "text/x-python",
   "name": "python",
   "nbconvert_exporter": "python",
   "pygments_lexer": "ipython3",
   "version": "3.12.4"
  }
 },
 "nbformat": 4,
 "nbformat_minor": 2
}
